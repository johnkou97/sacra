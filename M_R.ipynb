{
 "cells": [
  {
   "cell_type": "code",
   "execution_count": 1,
   "metadata": {},
   "outputs": [],
   "source": [
    "import h5py\n",
    "import numpy as np\n",
    "import math\n",
    "import scipy\n",
    "from scipy import signal\n",
    "import matplotlib.pyplot as plt\n",
    "from scipy.interpolate import CubicSpline as spline\n",
    "from scipy.fftpack import fft, fftshift ,ifft,rfft,fftfreq,rfftfreq\n",
    "c=2.9979e10\n",
    "G=6.67408e-8\n",
    "Msun=1.989e33\n",
    "Length = G*Msun/c**2\n",
    "Time = Length/c\n",
    "Frequency=1/Time"
   ]
  },
  {
   "cell_type": "code",
   "execution_count": 2,
   "metadata": {},
   "outputs": [],
   "source": [
    "EOS=['15H','125H','H','HB','B']\n",
    "MASS=['135_135','125_146','125_125','121_151','118_155','117_156','116_158','112_140','107_146']\n",
    "eq=['135_135','125_125']"
   ]
  },
  {
   "cell_type": "code",
   "execution_count": 3,
   "metadata": {},
   "outputs": [],
   "source": [
    "x=np.arange(0,18,1)\n",
    "def y1(x):\n",
    "    return (60/289)*x-(1888/1445)\n",
    "def y2(x):\n",
    "    return (42/355)*x-(1259/3550)"
   ]
  },
  {
   "cell_type": "code",
   "execution_count": 4,
   "metadata": {},
   "outputs": [],
   "source": [
    "m_r1=np.load('tid_def/15H.npy')\n",
    "m_r2=np.load('tid_def/125H.npy')\n",
    "m_r3=np.load('tid_def/H.npy')\n",
    "m_r4=np.load('tid_def/HB.npy')\n",
    "m_r5=np.load('tid_def/B.npy')"
   ]
  },
  {
   "cell_type": "code",
   "execution_count": 5,
   "metadata": {},
   "outputs": [],
   "source": [
    "mx=np.amax(m_r1[0])\n",
    "idx=np.where(m_r1[0]==mx)\n",
    "idx=idx[0][0]\n",
    "#cs1=spline(m_r1[0][1:idx],k_l1[0][1:idx])\n",
    "cs11=spline(m_r1[0][1:idx],m_r1[1][1:idx])\n",
    "\n",
    "mx=np.amax(m_r2[0])\n",
    "idx=np.where(m_r2[0]==mx)\n",
    "idx=idx[0][0]\n",
    "#cs2=spline(m_r2[0][1:idx],k_l2[0][1:idx])\n",
    "cs21=spline(m_r2[0][1:idx],m_r2[1][1:idx])\n",
    "\n",
    "mx=np.amax(m_r3[0])\n",
    "idx=np.where(m_r3[0]==mx)\n",
    "idx=idx[0][0]\n",
    "#cs3=spline(m_r3[0][1:idx],k_l3[0][1:idx])\n",
    "cs31=spline(m_r3[0][1:idx],m_r3[1][1:idx])\n",
    "\n",
    "mx=np.amax(m_r4[0])\n",
    "idx=np.where(m_r4[0]==mx)\n",
    "idx=idx[0][0]\n",
    "#cs4=spline(m_r4[0][1:idx],k_l4[0][1:idx])\n",
    "cs41=spline(m_r4[0][1:idx],m_r4[1][1:idx])\n",
    "\n",
    "mx=np.amax(m_r5[0])\n",
    "idx=np.where(m_r5[0]==mx)\n",
    "idx=idx[0][0]\n",
    "#cs5=spline(m_r5[0][1:idx],k_l5[0][1:idx])\n",
    "cs51=spline(m_r5[0][1:idx],m_r5[1][1:idx])\n",
    "\n"
   ]
  },
  {
   "cell_type": "code",
   "execution_count": 6,
   "metadata": {},
   "outputs": [],
   "source": [
    "r=np.zeros(len(EOS)*len(MASS))\n",
    "m=np.zeros(len(r))\n",
    "typ=np.zeros(len(r))\n",
    "i=0\n",
    "for eos in EOS:\n",
    "    for mas in MASS:\n",
    "        mastot=float(mas.split('_')[0])/100+float(mas.split('_')[1])/100\n",
    "        m[i]=mastot/2\n",
    "        if eos=='15H':\n",
    "            r[i]=cs11(mastot/2)*Length/1.0e5\n",
    "        elif eos=='125H':\n",
    "            r[i]=cs21(mastot/2)*Length/1.0e5\n",
    "        elif eos=='H':\n",
    "            r[i]=cs31(mastot/2)*Length/1.0e5\n",
    "        elif eos=='HB':\n",
    "            r[i]=cs41(mastot/2)*Length/1.0e5\n",
    "        elif eos=='B':\n",
    "            r[i]=cs51(mastot/2)*Length/1.0e5\n",
    "        \n",
    "        if mastot/2>y1(r[i]):\n",
    "            typ[i]=1\n",
    "        elif mastot/2>y2(r[i]):\n",
    "            typ[i]=2\n",
    "        else:\n",
    "            typ[i]=3\n",
    "        i=i+1"
   ]
  },
  {
   "cell_type": "code",
   "execution_count": 7,
   "metadata": {},
   "outputs": [
    {
     "data": {
      "text/plain": [
       "(1, 2.1)"
      ]
     },
     "execution_count": 7,
     "metadata": {},
     "output_type": "execute_result"
    },
    {
     "data": {
      "image/png": "[encoded data removed]",
      "text/plain": [
       "<Figure size 432x288 with 1 Axes>"
      ]
     },
     "metadata": {
      "needs_background": "light"
     },
     "output_type": "display_data"
    }
   ],
   "source": [
    "plt.plot(m_r1[1]*Length/1.0e5,m_r1[0])\n",
    "plt.plot(m_r2[1]*Length/1.0e5,m_r2[0])\n",
    "plt.plot(m_r3[1]*Length/1.0e5,m_r3[0])\n",
    "plt.plot(m_r4[1]*Length/1.0e5,m_r4[0])\n",
    "plt.plot(m_r5[1]*Length/1.0e5,m_r5[0])\n",
    "for i in range(len(r)):\n",
    "    plt.scatter(r[i],m[i])\n",
    "plt.plot(x,y1(x))\n",
    "plt.plot(x,y2(x))\n",
    "plt.xlim(10,14)\n",
    "plt.ylim(1,2.1)"
   ]
  },
  {
   "cell_type": "code",
   "execution_count": 8,
   "metadata": {},
   "outputs": [
    {
     "name": "stdout",
     "output_type": "stream",
     "text": [
      "13.648577824174497\n",
      "12.899675698067206\n",
      "12.17495547834392\n",
      "11.471600457630327\n",
      "10.784966388281015\n"
     ]
    }
   ],
   "source": [
    "ml=1.5584694852222305\n",
    "print(cs11(ml)*Length/1.0e5)\n",
    "print(cs21(ml)*Length/1.0e5)\n",
    "print(cs31(ml)*Length/1.0e5)\n",
    "print(cs41(ml)*Length/1.0e5)\n",
    "print(cs51(ml)*Length/1.0e5)"
   ]
  },
  {
   "cell_type": "code",
   "execution_count": null,
   "metadata": {},
   "outputs": [],
   "source": []
  }
 ],
 "metadata": {
  "kernelspec": {
   "display_name": "Python 3",
   "language": "python",
   "name": "python3"
  },
  "language_info": {
   "codemirror_mode": {
    "name": "ipython",
    "version": 3
   },
   "file_extension": ".py",
   "mimetype": "text/x-python",
   "name": "python",
   "nbconvert_exporter": "python",
   "pygments_lexer": "ipython3",
   "version": "3.7.6"
  }
 },
 "nbformat": 4,
 "nbformat_minor": 4
}
